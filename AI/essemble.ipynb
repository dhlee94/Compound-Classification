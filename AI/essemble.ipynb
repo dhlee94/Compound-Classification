{
 "cells": [
  {
   "cell_type": "code",
   "execution_count": null,
   "metadata": {},
   "outputs": [],
   "source": [
    "from transformer.transformer import Transformer\n",
    "from lstm.lstm import LSTM\n",
    "from gru.gru import GRU\n",
    "from LinearNetwork.linear import Linear\n",
    "import torch.optim as optim\n",
    "import torch.nn as nn\n",
    "from torch.autograd import Variable\n",
    "from tqdm import tqdm\n",
    "import sklearn.metrics as metrics\n",
    "from sklearn.ensemble import RandomForestClassifier\n",
    "from configparser import Interpolation\n",
    "import torch\n",
    "import numpy as np\n",
    "from torch.utils.data import Dataset\n",
    "import pandas as pd\n",
    "from torch.utils.data import DataLoader\n",
    "\n",
    "seed = 42\n",
    "torch.manual_seed(seed)\n",
    "torch.cuda.manual_seed(seed)\n",
    "torch.backends.cudnn.deterministic = True\n",
    "torch.backends.cudnn.benchmark = True"
   ]
  },
  {
   "cell_type": "code",
   "execution_count": null,
   "metadata": {},
   "outputs": [],
   "source": [
    "class Dataset_Classification(Dataset):\n",
    "    def __init__(self, csv):\n",
    "        self.csv = csv\n",
    "\n",
    "    def __len__(self):\n",
    "        return len(self.csv['image'])\n",
    "    \n",
    "    def __getitem__(self, idx):\n",
    "        input = torch.Tensor(self.csv['image'][idx])\n",
    "        label = torch.Tensor([self.csv['label'][idx]])\n",
    "        return input, label"
   ]
  },
  {
   "cell_type": "code",
   "execution_count": null,
   "metadata": {},
   "outputs": [],
   "source": [
    "test = np.load(\"gru/test.npy\", allow_pickle=True).item()\n",
    "test_dataset = Dataset_Classification(csv=test)\n",
    "testloader = DataLoader(test_dataset, batch_size=1,\n",
    "                            num_workers=0, pin_memory=True, shuffle=False)  "
   ]
  },
  {
   "cell_type": "code",
   "execution_count": null,
   "metadata": {},
   "outputs": [],
   "source": [
    "device = torch.device(\"cuda\") if torch.cuda.is_available() else torch.device(\"cpu\")\n",
    "type = torch.cuda.FloatTensor if torch.cuda.is_available() else torch.FloatTensor\n",
    "\n",
    "model1 = Linear(in_channels=2048, embedding_channels=1024, hidden_channels=None, classes=1, depth=4, dim_reduction=True)\n",
    "model2 = GRU(in_channels=2048, embedding_channels=1024, hidden_channels=512, classes=1, num_layers=1, dim_reduction=True)\n",
    "model3 = LSTM(in_channels=2048, embedding_channels=1024, hidden_channels=512, classes=1, num_layers=1, dim_reduction=True)\n",
    "model4 = Transformer(feature_dimensions=2048, dim_reduction=2, num_head=16, depth=1, act_layer=nn.GELU)"
   ]
  },
  {
   "cell_type": "code",
   "execution_count": null,
   "metadata": {},
   "outputs": [],
   "source": [
    "checkpoint = torch.load(\"./LinearNetwork/best_ar_linear.pth.tar\", map_location={'cuda:0':'cpu'})\n",
    "model1.load_state_dict(checkpoint['state_dict'])\n",
    "checkpoint = torch.load(\"./gru/best_ar_gru.pth.tar\", map_location={'cuda:0':'cpu'})\n",
    "model2.load_state_dict(checkpoint['state_dict'])\n",
    "checkpoint = torch.load(\"./lstm/best_ar_lstm.pth.tar\", map_location={'cuda:0':'cpu'})\n",
    "model3.load_state_dict(checkpoint['state_dict'])\n",
    "checkpoint = torch.load(\"./transformer/best_ar_trans.pth.tar\", map_location={'cuda:0':'cpu'})\n",
    "model4.load_state_dict(checkpoint['state_dict'])"
   ]
  },
  {
   "cell_type": "code",
   "execution_count": null,
   "metadata": {},
   "outputs": [],
   "source": [
    "model1 = model1.to(device)\n",
    "model2 = model2.to(device)\n",
    "model3 = model3.to(device)\n",
    "model4 = model4.to(device)"
   ]
  },
  {
   "cell_type": "code",
   "execution_count": null,
   "metadata": {},
   "outputs": [],
   "source": [
    "y_test = []\n",
    "y_pred = []\n",
    "with torch.no_grad():\n",
    "        for idx, data in enumerate(testloader):\n",
    "            input, label = data\n",
    "            input = Variable(input.type(type))\n",
    "            label = Variable(label.type(type))\n",
    "            y_test.extend(label.detach().cpu().numpy())\n",
    "            output1 = model1(input)\n",
    "            output2 = model2(input, device)\n",
    "            output3 = model3(input, device)\n",
    "            output4 = model4(input)\n",
    "            output = np.mean([output1.detach().cpu().numpy(), output2.detach().cpu().numpy(), output3.detach().cpu().numpy(), output4.detach().cpu().numpy()])\n",
    "            y_pred.extend([output])\n",
    "        y_test = np.array(y_test)\n",
    "        y_pred = np.array(y_pred)\n",
    "        precision, recall, _ = metrics.precision_recall_curve(y_test, y_pred, pos_label=1)\n",
    "        ap = metrics.auc(recall, precision)\n",
    "        fpr_roc, tpr_roc, _ = metrics.roc_curve(y_test, y_pred, pos_label=1)\n",
    "        ar = metrics.auc(fpr_roc, tpr_roc)"
   ]
  },
  {
   "cell_type": "code",
   "execution_count": null,
   "metadata": {},
   "outputs": [],
   "source": [
    "print(f'ap : {ap}')\n",
    "print(f'ar : {ar}')"
   ]
  },
  {
   "cell_type": "code",
   "execution_count": null,
   "metadata": {},
   "outputs": [],
   "source": []
  }
 ],
 "metadata": {
  "kernelspec": {
   "display_name": "dh",
   "language": "python",
   "name": "python3"
  },
  "language_info": {
   "codemirror_mode": {
    "name": "ipython",
    "version": 3
   },
   "file_extension": ".py",
   "mimetype": "text/x-python",
   "name": "python",
   "nbconvert_exporter": "python",
   "pygments_lexer": "ipython3",
   "version": "3.8.16"
  },
  "orig_nbformat": 4
 },
 "nbformat": 4,
 "nbformat_minor": 2
}
