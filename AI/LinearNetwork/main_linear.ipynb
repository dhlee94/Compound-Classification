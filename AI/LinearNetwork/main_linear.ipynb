{
 "cells": [
  {
   "cell_type": "code",
   "execution_count": null,
   "metadata": {},
   "outputs": [],
   "source": [
    "from linear import Linear, BasicLinear\n",
    "import torch.optim as optim\n",
    "import torch.nn as nn\n",
    "from torch.autograd import Variable\n",
    "from tqdm import tqdm\n",
    "import sklearn.metrics as metrics\n",
    "from sklearn.ensemble import RandomForestClassifier\n",
    "from configparser import Interpolation\n",
    "import torch\n",
    "import numpy as np\n",
    "from torch.utils.data import Dataset\n",
    "import pandas as pd\n",
    "from torch.utils.data import DataLoader\n",
    "\n",
    "seed = 42\n",
    "torch.manual_seed(seed)\n",
    "torch.cuda.manual_seed(seed)\n",
    "torch.backends.cudnn.deterministic = True\n",
    "torch.backends.cudnn.benchmark = True"
   ]
  },
  {
   "cell_type": "code",
   "execution_count": null,
   "metadata": {},
   "outputs": [],
   "source": [
    "class Dataset_Classification(Dataset):\n",
    "    def __init__(self, csv):\n",
    "        self.csv = csv\n",
    "\n",
    "    def __len__(self):\n",
    "        return len(self.csv['image'])\n",
    "    \n",
    "    def __getitem__(self, idx):\n",
    "        input = torch.Tensor(self.csv['image'][idx])\n",
    "        label = torch.Tensor([self.csv['label'][idx]])\n",
    "        return input, label"
   ]
  },
  {
   "cell_type": "code",
   "execution_count": null,
   "metadata": {},
   "outputs": [],
   "source": [
    "train = np.load(\"./train.npy\", allow_pickle=True).item()\n",
    "test = np.load(\"./test.npy\", allow_pickle=True).item()"
   ]
  },
  {
   "cell_type": "code",
   "execution_count": null,
   "metadata": {},
   "outputs": [],
   "source": [
    "train_dataset = Dataset_Classification(csv=train)\n",
    "test_dataset = Dataset_Classification(csv=test)\n",
    "\n",
    "trainloader = DataLoader(train_dataset, batch_size=16,\n",
    "                             num_workers=0, pin_memory=True, shuffle=True)   \n",
    "testloader = DataLoader(test_dataset, batch_size=16,\n",
    "                            num_workers=0, pin_memory=True, shuffle=False)  "
   ]
  },
  {
   "cell_type": "code",
   "execution_count": null,
   "metadata": {},
   "outputs": [],
   "source": [
    "device = torch.device(\"cuda\") if torch.cuda.is_available() else torch.device(\"cpu\")\n",
    "type = torch.cuda.FloatTensor if torch.cuda.is_available() else torch.FloatTensor\n",
    "model = Linear(in_channels=2048, embedding_channels=1024, hidden_channels=None, classes=1, depth=4, dim_reduction=True)\n",
    "#model = BasicLinear(in_channels=2048, hidden_channels=2048, classes=1)\n",
    "optimizer = optim.SGD(model.parameters(), lr=1.25e-3, momentum=1e-6)\n",
    "scheduler = optim.lr_scheduler.LambdaLR(optimizer=optimizer, lr_lambda=lambda epoch:0.975**epoch)\n",
    "criterion = nn.BCEWithLogitsLoss()\n",
    "\n",
    "model = model.to(device)\n",
    "criterion = criterion.to(device)\n",
    "epochs = 200"
   ]
  },
  {
   "cell_type": "code",
   "execution_count": null,
   "metadata": {},
   "outputs": [],
   "source": [
    "# AUC ROC\n",
    "best_ar = 0\n",
    "# AUC PRC\n",
    "best_ap = 0"
   ]
  },
  {
   "cell_type": "code",
   "execution_count": null,
   "metadata": {},
   "outputs": [],
   "source": [
    "file = open(f'train_log.txt', 'a')\n",
    "for epoch in range(0, epochs):\n",
    "    for idx, data in enumerate(trainloader):\n",
    "        input, label = data\n",
    "        input = Variable(input.type(type))\n",
    "        label = Variable(label.type(type))\n",
    "        output = model(input)\n",
    "        optimizer.zero_grad()\n",
    "        loss = criterion(output, label)\n",
    "        loss.backward()\n",
    "        optimizer.step()\n",
    "        if idx % (10) == 0:\n",
    "                tqdm.write(f'Epoch : {epoch} Iter : {idx}/{len(trainloader)} '\n",
    "                        f'Loss : {loss :.4f} ', file=file)\n",
    "    scheduler.step()\n",
    "    y_test = []\n",
    "    y_pred = []\n",
    "    with torch.no_grad():\n",
    "        for idx, data in enumerate(testloader):\n",
    "            input, label = data\n",
    "            input = Variable(input.type(type))\n",
    "            label = Variable(label.type(type))\n",
    "            y_test.extend(label.detach().cpu().numpy())\n",
    "            output = model(input)\n",
    "            y_pred.extend(output.detach().cpu().numpy())\n",
    "    y_test = np.array(y_test)\n",
    "    y_pred = np.array(y_pred)\n",
    "    precision, recall, _ = metrics.precision_recall_curve(y_test, y_pred, pos_label=1)\n",
    "    ap = metrics.auc(recall, precision)\n",
    "    fpr_roc, tpr_roc, _ = metrics.roc_curve(y_test, y_pred, pos_label=1)\n",
    "    ar = metrics.auc(fpr_roc, tpr_roc)\n",
    "    if best_ar < ar:\n",
    "        print(f'epoch: {epoch} best_ar:{ar}')\n",
    "        best_ar = ar\n",
    "        torch.save({\n",
    "            'epoch': epoch + 1,\n",
    "            'state_dict': model.state_dict(),\n",
    "            'best_ar': best_ar\n",
    "        }, \"./best_ar_linear.pth.tar\")\n",
    "    if best_ap < ap:\n",
    "        best_ap = ap\n",
    "        print(f'epoch: {epoch} best_ap:{ap}')\n",
    "        torch.save({\n",
    "            'epoch': epoch + 1,\n",
    "            'state_dict': model.state_dict(),\n",
    "            'best_ap': best_ap\n",
    "        }, \"./best_ap_linear.pth.tar\")"
   ]
  },
  {
   "cell_type": "code",
   "execution_count": null,
   "metadata": {},
   "outputs": [],
   "source": []
  }
 ],
 "metadata": {
  "kernelspec": {
   "display_name": "ldh",
   "language": "python",
   "name": "python3"
  },
  "language_info": {
   "codemirror_mode": {
    "name": "ipython",
    "version": 3
   },
   "file_extension": ".py",
   "mimetype": "text/x-python",
   "name": "python",
   "nbconvert_exporter": "python",
   "pygments_lexer": "ipython3",
   "version": "3.8.16"
  },
  "orig_nbformat": 4
 },
 "nbformat": 4,
 "nbformat_minor": 2
}
