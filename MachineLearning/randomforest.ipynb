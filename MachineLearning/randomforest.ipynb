{
 "cells": [
  {
   "cell_type": "code",
   "execution_count": null,
   "metadata": {},
   "outputs": [],
   "source": [
    "import numpy as np\n",
    "import pandas as pd\n",
    "from sklearn.ensemble import RandomForestClassifier\n",
    "import sklearn.metrics as metrics"
   ]
  },
  {
   "cell_type": "code",
   "execution_count": null,
   "metadata": {},
   "outputs": [],
   "source": [
    "train_data = np.load(\"train.npy\", allow_pickle=True).item()\n",
    "test_data = np.load(\"test.npy\", allow_pickle=True).item()"
   ]
  },
  {
   "cell_type": "code",
   "execution_count": null,
   "metadata": {},
   "outputs": [],
   "source": [
    "train_image, train_label = train_data['image'], train_data['label']\n",
    "test_image, test_label = test_data['image'], test_data['label']"
   ]
  },
  {
   "cell_type": "code",
   "execution_count": null,
   "metadata": {},
   "outputs": [],
   "source": [
    "clf = RandomForestClassifier()\n",
    "clf.fit(train_image, train_label)\n",
    "clf.score(test_image, test_label)"
   ]
  },
  {
   "cell_type": "code",
   "execution_count": null,
   "metadata": {},
   "outputs": [],
   "source": [
    "test_result = clf.predict_proba(test_image)[:, 1]"
   ]
  },
  {
   "cell_type": "code",
   "execution_count": null,
   "metadata": {},
   "outputs": [],
   "source": [
    "# AUC PRC\n",
    "precision, recall, _ = metrics.precision_recall_curve(test_label, test_result, pos_label=1)\n",
    "print(metrics.auc(recall, precision))\n",
    "# AUC ROC\n",
    "fpr_roc, tpr_roc, _ = metrics.roc_curve(test_label, test_result, pos_label=1)\n",
    "print(metrics.auc(fpr_roc, tpr_roc))"
   ]
  },
  {
   "cell_type": "code",
   "execution_count": null,
   "metadata": {},
   "outputs": [],
   "source": [
    "from sklearn.svm import SVC\n",
    "classifier = SVC(kernel = 'linear', random_state = 0)\n",
    "classifier.fit(train_image, train_label)\n",
    "test_result = classifier.predict(test_image)\n",
    "clf.score(test_image, test_label)"
   ]
  },
  {
   "cell_type": "code",
   "execution_count": null,
   "metadata": {},
   "outputs": [],
   "source": [
    "# AUC PRC\n",
    "precision, recall, _ = metrics.precision_recall_curve(test_label, test_result, pos_label=1)\n",
    "print(metrics.auc(recall, precision))\n",
    "# AUC ROC\n",
    "fpr_roc, tpr_roc, _ = metrics.roc_curve(test_label, test_result, pos_label=1)\n",
    "print(metrics.auc(fpr_roc, tpr_roc))"
   ]
  }
 ],
 "metadata": {
  "kernelspec": {
   "display_name": "dh",
   "language": "python",
   "name": "python3"
  },
  "language_info": {
   "codemirror_mode": {
    "name": "ipython",
    "version": 3
   },
   "file_extension": ".py",
   "mimetype": "text/x-python",
   "name": "python",
   "nbconvert_exporter": "python",
   "pygments_lexer": "ipython3",
   "version": "3.8.16"
  },
  "orig_nbformat": 4
 },
 "nbformat": 4,
 "nbformat_minor": 2
}
