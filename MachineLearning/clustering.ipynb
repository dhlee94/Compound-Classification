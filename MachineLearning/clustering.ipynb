{
 "cells": [
  {
   "cell_type": "code",
   "execution_count": null,
   "metadata": {},
   "outputs": [],
   "source": [
    "import torch\n",
    "import torch.nn as nn\n",
    "import importlib\n",
    "from sklearn.decomposition import PCA\n",
    "from sklearn.manifold import TSNE\n",
    "from sklearn.cluster import KMeans, DBSCAN\n",
    "from sklearn.preprocessing import StandardScaler\n",
    "import seaborn as sns\n",
    "def fit_pca(img, pca):\n",
    "    return pca.fit_transform(img)\n",
    "\n",
    "def kmeans_clustering(number_clusters, random_state):\n",
    "    return KMeans(n_clusters=number_clusters, random_state=random_state)\n",
    "\n",
    "def dbscan_clustering(min_samples=5):\n",
    "    return DBSCAN(min_samples=min_samples)\n",
    "\n",
    "def normalization(data):\n",
    "    scaler = StandardScaler()\n",
    "    return scaler.fit_transform(data)\n",
    "\n",
    "def tsne_visualization(n_components=2, perplexity=30.0, learning_rate='pca', verbose=1):\n",
    "    #return TSNE(n_components=n_components, perplexity=perplexity, learning_rate=learning_rate, verbose=verbose)\n",
    "    return TSNE(n_components=n_components, perplexity=perplexity, verbose=verbose)\n",
    "\n",
    "def clustering_result(kmeans):\n",
    "    image_cluster_dict = {}\n",
    "    for i, m in enumerate(kmeans):\n",
    "        image_cluster_dict[f'{m}'] = 0 \n",
    "    for i, m in enumerate(kmeans):\n",
    "        image_cluster_dict[f'{m}'] += 1\n",
    "    return image_cluster_dict"
   ]
  },
  {
   "cell_type": "code",
   "execution_count": null,
   "metadata": {},
   "outputs": [],
   "source": [
    "import numpy as np\n",
    "train_data = np.load(\"train.npy\", allow_pickle=True).item()\n",
    "test_data = np.load(\"test.npy\", allow_pickle=True).item()"
   ]
  },
  {
   "cell_type": "code",
   "execution_count": null,
   "metadata": {},
   "outputs": [],
   "source": [
    "data = np.array(train_data['image'])\n",
    "label = np.array(train_data['label'])"
   ]
  },
  {
   "cell_type": "code",
   "execution_count": null,
   "metadata": {},
   "outputs": [],
   "source": [
    "pca = PCA(n_components=500)\n",
    "pca_result = fit_pca(data, pca)\n",
    "print(sum(pca.explained_variance_ratio_))\n",
    "norm_result = normalization(pca_result)"
   ]
  },
  {
   "cell_type": "code",
   "execution_count": null,
   "metadata": {},
   "outputs": [],
   "source": [
    "kmeans = kmeans_clustering(number_clusters=2, random_state=1)\n",
    "clustering = kmeans.fit_predict(norm_result)\n",
    "cluster_dict = clustering_result(clustering)\n",
    "print(cluster_dict)\n",
    "print(clustering)"
   ]
  },
  {
   "cell_type": "code",
   "execution_count": null,
   "metadata": {},
   "outputs": [],
   "source": [
    "tsne = tsne_visualization()\n",
    "tsne_result = tsne.fit_transform(norm_result)"
   ]
  },
  {
   "cell_type": "code",
   "execution_count": null,
   "metadata": {},
   "outputs": [],
   "source": [
    "sns.scatterplot(x=tsne_result[:, 0], y=tsne_result[:, 1], hue=clustering)"
   ]
  },
  {
   "cell_type": "code",
   "execution_count": null,
   "metadata": {},
   "outputs": [],
   "source": []
  }
 ],
 "metadata": {
  "kernelspec": {
   "display_name": "dh",
   "language": "python",
   "name": "python3"
  },
  "language_info": {
   "codemirror_mode": {
    "name": "ipython",
    "version": 3
   },
   "file_extension": ".py",
   "mimetype": "text/x-python",
   "name": "python",
   "nbconvert_exporter": "python",
   "pygments_lexer": "ipython3",
   "version": "3.8.16"
  },
  "orig_nbformat": 4
 },
 "nbformat": 4,
 "nbformat_minor": 2
}
